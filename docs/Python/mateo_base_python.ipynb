{
 "cells": [
  {
   "cell_type": "markdown",
   "metadata": {},
   "source": [
    "# Cours Python\n",
    "\n",
    "## Les variables\n",
    "\n",
    "   Dans un script, on n'utilise pas toujours les mêmes valeurs. On doit trouver une façon d'utiliser des valeurs inconnues à l'avance et qui peuvent évoluer durant l'exécution. On appelle cela des variables. \n",
    "\n",
    "\n",
    "    "
   ]
  },
  {
   "cell_type": "code",
   "execution_count": 3,
   "metadata": {},
   "outputs": [
    {
     "data": {
      "text/plain": [
       "'Matéo'"
      ]
     },
     "execution_count": 3,
     "metadata": {},
     "output_type": "execute_result"
    }
   ],
   "source": [
    "nom = \"Matéo\"\n",
    "nom"
   ]
  },
  {
   "cell_type": "markdown",
   "metadata": {},
   "source": [
    "### Utilisation de variables et de print()\n",
    "\n",
    "   Print, (\"imprimer\" en Français) est une commande qui va nous servir à afficher du texte, une variable etc... \n",
    "   \n",
    "   Elle s'écrit : print(\"le texte que vous souhaitez\")\n",
    "   \n",
    "   ATTENTION : si l'on veut écrire du texte, il ne faut pas oublier les guillemets \"\" pour indiquer d'afficher le texte. Sinon, python va comprendre que le texte est une variable et va donc vous afficher une erreur."
   ]
  },
  {
   "cell_type": "markdown",
   "metadata": {},
   "source": [
    "print(bonjour)"
   ]
  },
  {
   "cell_type": "code",
   "execution_count": 5,
   "metadata": {},
   "outputs": [
    {
     "name": "stdout",
     "output_type": "stream",
     "text": [
      "Bonjour\n"
     ]
    }
   ],
   "source": [
    "print(\"Bonjour\")"
   ]
  },
  {
   "cell_type": "markdown",
   "metadata": {},
   "source": [
    "### Stockage de résultats avec des variables\n",
    "\n",
    "   Les variables sont souvent utilisées pour conserver le résultat de calculs. Cela permet de construire des scripts plus complexes. Par exemple : "
   ]
  },
  {
   "cell_type": "code",
   "execution_count": null,
   "metadata": {},
   "outputs": [],
   "source": [
    "mot = \"Hello\"\n",
    "mot2 = \"World\"\n",
    "phrase = mot + \" \" + mot2\n",
    "print(phrase)"
   ]
  },
  {
   "attachments": {
    "image.png": {
     "image/png": "[encoded data removed]"
    }
   },
   "cell_type": "markdown",
   "metadata": {},
   "source": [
    "# Boucle for :\n",
    "On dit que l'on réalise une itération de la boucleà chaque fois que le corps de la boucle est exécuté. Dans l'en-tête de la boucle, on précise après le mot clé *for* le nom d'une variable. \n",
    "\n",
    "![image.png](attachment:image.png)\n",
    "\n",
    "\n",
    "\n",
    "\n",
    "Par exemple :"
   ]
  },
  {
   "cell_type": "code",
   "execution_count": 2,
   "metadata": {},
   "outputs": [
    {
     "name": "stdout",
     "output_type": "stream",
     "text": [
      "H\n",
      "e\n",
      "l\n",
      "l\n",
      "o\n",
      "W\n",
      "o\n",
      "r\n",
      "l\n",
      "d\n"
     ]
    }
   ],
   "source": [
    "for caractere in \"HelloWorld\":\n",
    "    print(caractere)"
   ]
  },
  {
   "attachments": {
    "image.png": {
     "image/png": "[encoded data removed]"
    }
   },
   "cell_type": "markdown",
   "metadata": {},
   "source": [
    "# Les structures conditionnelles if, else, elif :\n",
    "Les structures de contrôle conditionnelles vont nous permettre d'exécuter différents blocs de code selon qu'une condition spécifique soit vérifiée ou pas.\n",
    "\n",
    "Python nous propose les structures conditionnelle suivantes : \n",
    "\n",
    "+ La condition **if(\"si\")**;\n",
    "+ La condition **if...else(\"si...sinon\")**;\n",
    "+ La condition **if...elif...else(\"si...sinon si...sinon\")**;q\n",
    "\n",
    "![image.png](attachment:image.png)"
   ]
  },
  {
   "cell_type": "code",
   "execution_count": 3,
   "metadata": {},
   "outputs": [
    {
     "name": "stdout",
     "output_type": "stream",
     "text": [
      "byebye\n"
     ]
    }
   ],
   "source": [
    "nombre = 2\n",
    "if nombre == 3:\n",
    "    print(\"hello\")\n",
    "elif nombre == 4:\n",
    "    print(\"hello\")\n",
    "else :\n",
    "    print(\"byebye\")\n"
   ]
  },
  {
   "cell_type": "markdown",
   "metadata": {},
   "source": [
    "# La fonction *type*: \n",
    "Elle permet de renvoyer le type d'une valeur.\n",
    "\n",
    "Voici les principaux types de valeurs :\n",
    "+ Une chaine de caractère : *str* pour **string**\n",
    "+ Un nombre entier : *int* pour **integer**\n",
    "+ Un nombre réel : *float* pour **nombres à virgule flottante**\n",
    "+ Une variable à deux états : *bool* pour **True** et **False**\n",
    "![]()"
   ]
  },
  {
   "cell_type": "code",
   "execution_count": 5,
   "metadata": {},
   "outputs": [
    {
     "name": "stdout",
     "output_type": "stream",
     "text": [
      "<class 'str'>\n",
      "<class 'int'>\n",
      "<class 'float'>\n",
      "<class 'bool'>\n"
     ]
    }
   ],
   "source": [
    "print(type(\"Bonjour\"))\n",
    "print(type(255))\n",
    "print(type(3.8))\n",
    "print(type(True)) "
   ]
  }
 ],
 "metadata": {
  "kernelspec": {
   "display_name": "Python 3.8.13 64-bit ('3.8.13')",
   "language": "python",
   "name": "python3"
  },
  "language_info": {
   "codemirror_mode": {
    "name": "ipython",
    "version": 3
   },
   "file_extension": ".py",
   "mimetype": "text/x-python",
   "name": "python",
   "nbconvert_exporter": "python",
   "pygments_lexer": "ipython3",
   "version": "3.8.13 (default, Oct  4 2022, 14:00:32) \n[GCC 9.4.0]"
  },
  "vscode": {
   "interpreter": {
    "hash": "110cc1dee26208153f2972f08a2ad52b6a56238dc66d48e87fb757ef2996db56"
   }
  }
 },
 "nbformat": 4,
 "nbformat_minor": 2
}
